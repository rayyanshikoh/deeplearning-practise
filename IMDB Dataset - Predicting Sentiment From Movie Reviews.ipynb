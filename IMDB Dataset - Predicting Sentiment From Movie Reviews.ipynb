{
 "cells": [
  {
   "cell_type": "code",
   "execution_count": 6,
   "id": "859eb2ee",
   "metadata": {},
   "outputs": [],
   "source": [
    "import tensorflow as tf\n",
    "from keras.datasets import imdb"
   ]
  },
  {
   "cell_type": "code",
   "execution_count": 7,
   "id": "f9bae03e",
   "metadata": {},
   "outputs": [
    {
     "name": "stderr",
     "output_type": "stream",
     "text": [
      "/opt/anaconda3/envs/tensorflow/lib/python3.7/site-packages/keras/datasets/imdb.py:101: VisibleDeprecationWarning: Creating an ndarray from ragged nested sequences (which is a list-or-tuple of lists-or-tuples-or ndarrays with different lengths or shapes) is deprecated. If you meant to do this, you must specify 'dtype=object' when creating the ndarray.\n",
      "  x_train, y_train = np.array(xs[:idx]), np.array(labels[:idx])\n",
      "/opt/anaconda3/envs/tensorflow/lib/python3.7/site-packages/keras/datasets/imdb.py:102: VisibleDeprecationWarning: Creating an ndarray from ragged nested sequences (which is a list-or-tuple of lists-or-tuples-or ndarrays with different lengths or shapes) is deprecated. If you meant to do this, you must specify 'dtype=object' when creating the ndarray.\n",
      "  x_test, y_test = np.array(xs[idx:]), np.array(labels[idx:])\n"
     ]
    }
   ],
   "source": [
    "(train_data, train_labels), (test_data, test_labels) = imdb.load_data(num_words=10000)"
   ]
  },
  {
   "cell_type": "code",
   "execution_count": 8,
   "id": "777829dc",
   "metadata": {},
   "outputs": [
    {
     "data": {
      "text/plain": [
       "[1,\n",
       " 14,\n",
       " 22,\n",
       " 16,\n",
       " 43,\n",
       " 530,\n",
       " 973,\n",
       " 1622,\n",
       " 1385,\n",
       " 65,\n",
       " 458,\n",
       " 4468,\n",
       " 66,\n",
       " 3941,\n",
       " 4,\n",
       " 173,\n",
       " 36,\n",
       " 256,\n",
       " 5,\n",
       " 25,\n",
       " 100,\n",
       " 43,\n",
       " 838,\n",
       " 112,\n",
       " 50,\n",
       " 670,\n",
       " 2,\n",
       " 9,\n",
       " 35,\n",
       " 480,\n",
       " 284,\n",
       " 5,\n",
       " 150,\n",
       " 4,\n",
       " 172,\n",
       " 112,\n",
       " 167,\n",
       " 2,\n",
       " 336,\n",
       " 385,\n",
       " 39,\n",
       " 4,\n",
       " 172,\n",
       " 4536,\n",
       " 1111,\n",
       " 17,\n",
       " 546,\n",
       " 38,\n",
       " 13,\n",
       " 447,\n",
       " 4,\n",
       " 192,\n",
       " 50,\n",
       " 16,\n",
       " 6,\n",
       " 147,\n",
       " 2025,\n",
       " 19,\n",
       " 14,\n",
       " 22,\n",
       " 4,\n",
       " 1920,\n",
       " 4613,\n",
       " 469,\n",
       " 4,\n",
       " 22,\n",
       " 71,\n",
       " 87,\n",
       " 12,\n",
       " 16,\n",
       " 43,\n",
       " 530,\n",
       " 38,\n",
       " 76,\n",
       " 15,\n",
       " 13,\n",
       " 1247,\n",
       " 4,\n",
       " 22,\n",
       " 17,\n",
       " 515,\n",
       " 17,\n",
       " 12,\n",
       " 16,\n",
       " 626,\n",
       " 18,\n",
       " 2,\n",
       " 5,\n",
       " 62,\n",
       " 386,\n",
       " 12,\n",
       " 8,\n",
       " 316,\n",
       " 8,\n",
       " 106,\n",
       " 5,\n",
       " 4,\n",
       " 2223,\n",
       " 5244,\n",
       " 16,\n",
       " 480,\n",
       " 66,\n",
       " 3785,\n",
       " 33,\n",
       " 4,\n",
       " 130,\n",
       " 12,\n",
       " 16,\n",
       " 38,\n",
       " 619,\n",
       " 5,\n",
       " 25,\n",
       " 124,\n",
       " 51,\n",
       " 36,\n",
       " 135,\n",
       " 48,\n",
       " 25,\n",
       " 1415,\n",
       " 33,\n",
       " 6,\n",
       " 22,\n",
       " 12,\n",
       " 215,\n",
       " 28,\n",
       " 77,\n",
       " 52,\n",
       " 5,\n",
       " 14,\n",
       " 407,\n",
       " 16,\n",
       " 82,\n",
       " 2,\n",
       " 8,\n",
       " 4,\n",
       " 107,\n",
       " 117,\n",
       " 5952,\n",
       " 15,\n",
       " 256,\n",
       " 4,\n",
       " 2,\n",
       " 7,\n",
       " 3766,\n",
       " 5,\n",
       " 723,\n",
       " 36,\n",
       " 71,\n",
       " 43,\n",
       " 530,\n",
       " 476,\n",
       " 26,\n",
       " 400,\n",
       " 317,\n",
       " 46,\n",
       " 7,\n",
       " 4,\n",
       " 2,\n",
       " 1029,\n",
       " 13,\n",
       " 104,\n",
       " 88,\n",
       " 4,\n",
       " 381,\n",
       " 15,\n",
       " 297,\n",
       " 98,\n",
       " 32,\n",
       " 2071,\n",
       " 56,\n",
       " 26,\n",
       " 141,\n",
       " 6,\n",
       " 194,\n",
       " 7486,\n",
       " 18,\n",
       " 4,\n",
       " 226,\n",
       " 22,\n",
       " 21,\n",
       " 134,\n",
       " 476,\n",
       " 26,\n",
       " 480,\n",
       " 5,\n",
       " 144,\n",
       " 30,\n",
       " 5535,\n",
       " 18,\n",
       " 51,\n",
       " 36,\n",
       " 28,\n",
       " 224,\n",
       " 92,\n",
       " 25,\n",
       " 104,\n",
       " 4,\n",
       " 226,\n",
       " 65,\n",
       " 16,\n",
       " 38,\n",
       " 1334,\n",
       " 88,\n",
       " 12,\n",
       " 16,\n",
       " 283,\n",
       " 5,\n",
       " 16,\n",
       " 4472,\n",
       " 113,\n",
       " 103,\n",
       " 32,\n",
       " 15,\n",
       " 16,\n",
       " 5345,\n",
       " 19,\n",
       " 178,\n",
       " 32]"
      ]
     },
     "execution_count": 8,
     "metadata": {},
     "output_type": "execute_result"
    }
   ],
   "source": [
    "train_data[0]"
   ]
  },
  {
   "cell_type": "markdown",
   "id": "e080f838",
   "metadata": {},
   "source": [
    "Here, the imdb dataset has been pre-processed for use. Each data is a list of numbers, each number represents a unique word. "
   ]
  },
  {
   "cell_type": "code",
   "execution_count": 9,
   "id": "25b21942",
   "metadata": {},
   "outputs": [],
   "source": [
    "import numpy as np\n",
    "def vectorise_sequence(sequences, dimension=10000):\n",
    "    results = np.zeros((len(sequences), dimension))\n",
    "    for i, sequence in enumerate(sequences):\n",
    "        results[i, sequence] = 1\n",
    "    return results\n",
    "\n",
    "x_train = vectorise_sequence(train_data)\n",
    "x_test = vectorise_sequence(test_data)"
   ]
  },
  {
   "cell_type": "code",
   "execution_count": 10,
   "id": "70a53f0e",
   "metadata": {},
   "outputs": [
    {
     "data": {
      "text/plain": [
       "array([0., 1., 1., ..., 0., 0., 0.])"
      ]
     },
     "execution_count": 10,
     "metadata": {},
     "output_type": "execute_result"
    }
   ],
   "source": [
    "x_train[0]"
   ]
  },
  {
   "cell_type": "markdown",
   "id": "3e8aee3f",
   "metadata": {},
   "source": [
    "So, we have successfully converted our training data into a series of 0s and 1s (in the process of one-hot encoding), which are ready for the neural network now. We can never enter just lists of integers into a neural network, it should always be a tensor"
   ]
  },
  {
   "cell_type": "code",
   "execution_count": 11,
   "id": "ac2d0d26",
   "metadata": {},
   "outputs": [
    {
     "data": {
      "text/plain": [
       "(25000, 10000)"
      ]
     },
     "execution_count": 11,
     "metadata": {},
     "output_type": "execute_result"
    }
   ],
   "source": [
    "x_train.shape"
   ]
  },
  {
   "cell_type": "code",
   "execution_count": 17,
   "id": "a473594c",
   "metadata": {},
   "outputs": [],
   "source": [
    "y_train = np.asarray(train_labels).astype('float32')\n",
    "y_test = np.asarray(test_labels).astype('float32')"
   ]
  },
  {
   "cell_type": "markdown",
   "id": "455e1d3e",
   "metadata": {},
   "source": [
    "The argument we will pass to each Dense layer, 16, is the number of hidden units. Hidden units is a dimension in the representation space of a layer. Each dense layer with relu activation has the following formula:\n",
    "\n",
    "output = relu(dot(W, input) + b)\n",
    "in this case W = (input_dimension, 16) and b is the bias vector.\n",
    "\n",
    "More units allows the model to learn more complex representations, but the process becomes more computationally extensive, and can lead to unwanted patterns.\n",
    "\n",
    "The intermediate layers are using relu (rectified linear unit) activation, designed to zero out negative values. The final layer uses sigmoid, which squashes values into either 0 or 1.\n",
    "\n",
    "The best loss function to use when outputting probabilities and/or when using sigmoid activation is the binary crossentropy loss. \n",
    "\n",
    "The optimiser we are using is the rmsprop. \n"
   ]
  },
  {
   "cell_type": "code",
   "execution_count": 18,
   "id": "7a39aaea",
   "metadata": {},
   "outputs": [],
   "source": [
    "from keras import models, layers, losses, metrics, optimizers\n",
    "\n",
    "model_0 = models.Sequential()\n",
    "model_0.add(layers.Dense(16, activation='relu', input_shape=(10000,)))\n",
    "model_0.add(layers.Dense(16, activation='relu'))\n",
    "model_0.add(layers.Dense(1, activation='sigmoid'))\n",
    "\n",
    "model_0.compile(optimizer=optimizers.RMSprop(lr=0.001), loss='binary_crossentropy', metrics=['accuracy'])"
   ]
  },
  {
   "cell_type": "markdown",
   "id": "9196bd28",
   "metadata": {},
   "source": [
    "We also need to create a validation data set to test the model on unseen data, amidst training."
   ]
  },
  {
   "cell_type": "code",
   "execution_count": 20,
   "id": "83fae41d",
   "metadata": {},
   "outputs": [],
   "source": [
    "x_val = x_train[:10000]\n",
    "partial_x_train = x_train[10000:]\n",
    "\n",
    "y_val = y_train[:10000]\n",
    "partial_y_train = y_train[10000:]"
   ]
  },
  {
   "cell_type": "code",
   "execution_count": 21,
   "id": "4a162fa8",
   "metadata": {},
   "outputs": [
    {
     "name": "stdout",
     "output_type": "stream",
     "text": [
      "Train on 15000 samples, validate on 10000 samples\n",
      "Epoch 1/20\n",
      "15000/15000 [==============================] - 5s 303us/step - loss: 0.5297 - accuracy: 0.7795 - val_loss: 0.3944 - val_accuracy: 0.8704\n",
      "Epoch 2/20\n",
      "15000/15000 [==============================] - 2s 139us/step - loss: 0.3187 - accuracy: 0.8992 - val_loss: 0.3201 - val_accuracy: 0.8793\n",
      "Epoch 3/20\n",
      "15000/15000 [==============================] - 2s 103us/step - loss: 0.2317 - accuracy: 0.9261 - val_loss: 0.2899 - val_accuracy: 0.8874\n",
      "Epoch 4/20\n",
      "15000/15000 [==============================] - 2s 110us/step - loss: 0.1839 - accuracy: 0.9414 - val_loss: 0.2748 - val_accuracy: 0.8913\n",
      "Epoch 5/20\n",
      "15000/15000 [==============================] - 1s 97us/step - loss: 0.1462 - accuracy: 0.9545 - val_loss: 0.3456 - val_accuracy: 0.8637\n",
      "Epoch 6/20\n",
      "15000/15000 [==============================] - 2s 103us/step - loss: 0.1230 - accuracy: 0.9632 - val_loss: 0.2933 - val_accuracy: 0.8853\n",
      "Epoch 7/20\n",
      "15000/15000 [==============================] - 2s 113us/step - loss: 0.1002 - accuracy: 0.9705 - val_loss: 0.3047 - val_accuracy: 0.8847\n",
      "Epoch 8/20\n",
      "15000/15000 [==============================] - 2s 100us/step - loss: 0.0815 - accuracy: 0.9785 - val_loss: 0.3287 - val_accuracy: 0.8825\n",
      "Epoch 9/20\n",
      "15000/15000 [==============================] - 2s 111us/step - loss: 0.0659 - accuracy: 0.9825 - val_loss: 0.3523 - val_accuracy: 0.8781\n",
      "Epoch 10/20\n",
      "15000/15000 [==============================] - 2s 106us/step - loss: 0.0542 - accuracy: 0.9871 - val_loss: 0.3714 - val_accuracy: 0.8789\n",
      "Epoch 11/20\n",
      "15000/15000 [==============================] - 2s 102us/step - loss: 0.0428 - accuracy: 0.9901 - val_loss: 0.4160 - val_accuracy: 0.8704\n",
      "Epoch 12/20\n",
      "15000/15000 [==============================] - 2s 108us/step - loss: 0.0347 - accuracy: 0.9921 - val_loss: 0.4242 - val_accuracy: 0.8771\n",
      "Epoch 13/20\n",
      "15000/15000 [==============================] - 2s 129us/step - loss: 0.0247 - accuracy: 0.9962 - val_loss: 0.4683 - val_accuracy: 0.8691\n",
      "Epoch 14/20\n",
      "15000/15000 [==============================] - 2s 125us/step - loss: 0.0208 - accuracy: 0.9965 - val_loss: 0.4890 - val_accuracy: 0.8721\n",
      "Epoch 15/20\n",
      "15000/15000 [==============================] - 2s 105us/step - loss: 0.0173 - accuracy: 0.9972 - val_loss: 0.5238 - val_accuracy: 0.8699\n",
      "Epoch 16/20\n",
      "15000/15000 [==============================] - 2s 111us/step - loss: 0.0129 - accuracy: 0.9979 - val_loss: 0.5481 - val_accuracy: 0.8716\n",
      "Epoch 17/20\n",
      "15000/15000 [==============================] - 2s 120us/step - loss: 0.0081 - accuracy: 0.9996 - val_loss: 0.5889 - val_accuracy: 0.8703\n",
      "Epoch 18/20\n",
      "15000/15000 [==============================] - 2s 110us/step - loss: 0.0064 - accuracy: 0.9998 - val_loss: 0.6716 - val_accuracy: 0.8648\n",
      "Epoch 19/20\n",
      "15000/15000 [==============================] - 2s 111us/step - loss: 0.0076 - accuracy: 0.9983 - val_loss: 0.6802 - val_accuracy: 0.8646\n",
      "Epoch 20/20\n",
      "15000/15000 [==============================] - 2s 112us/step - loss: 0.0028 - accuracy: 0.9999 - val_loss: 0.6943 - val_accuracy: 0.8688\n"
     ]
    }
   ],
   "source": [
    "history = model_0.fit(partial_x_train, partial_y_train, epochs=20, batch_size=512, validation_data=(x_val, y_val))"
   ]
  },
  {
   "cell_type": "code",
   "execution_count": 25,
   "id": "5298cf10",
   "metadata": {},
   "outputs": [
    {
     "data": {
      "text/plain": [
       "dict_keys(['val_loss', 'val_accuracy', 'loss', 'accuracy'])"
      ]
     },
     "execution_count": 25,
     "metadata": {},
     "output_type": "execute_result"
    }
   ],
   "source": [
    "history.history.keys()"
   ]
  },
  {
   "cell_type": "code",
   "execution_count": 29,
   "id": "c60681e7",
   "metadata": {},
   "outputs": [
    {
     "data": {
      "image/png": "[encoded data removed]",
      "text/plain": [
       "<Figure size 432x288 with 1 Axes>"
      ]
     },
     "metadata": {
      "needs_background": "light"
     },
     "output_type": "display_data"
    }
   ],
   "source": [
    "import matplotlib.pyplot as plt\n",
    "\n",
    "history_dict = history.history\n",
    "loss_values = history_dict['loss']\n",
    "val_loss_values = history_dict['val_loss']\n",
    "\n",
    "epochs = range(1, len(history_dict['accuracy']) + 1)\n",
    "plt.plot(epochs, loss_values, 'bo', label='Training Loss')\n",
    "plt.plot(epochs, val_loss_values, 'b', label='Validation Loss')\n",
    "plt.title('Training and Validation Loss')\n",
    "plt.xlabel('Epochs')\n",
    "plt.ylabel('Loss')\n",
    "\n",
    "plt.legend()\n",
    "plt.show()"
   ]
  },
  {
   "cell_type": "code",
   "execution_count": 31,
   "id": "778ec9fb",
   "metadata": {},
   "outputs": [
    {
     "data": {
      "image/png": "[encoded data removed]",
      "text/plain": [
       "<Figure size 432x288 with 1 Axes>"
      ]
     },
     "metadata": {
      "needs_background": "light"
     },
     "output_type": "display_data"
    }
   ],
   "source": [
    "plt.clf()\n",
    "accuracy_values = history_dict['accuracy']\n",
    "val_accuracy_values = history_dict['val_accuracy']\n",
    "\n",
    "plt.plot(epochs, accuracy_values, 'bo', label='Training Accuracy')\n",
    "plt.plot(epochs, val_accuracy_values, 'b', label='Validation Accuracy')\n",
    "plt.title('Training and Validation Accuracy')\n",
    "plt.xlabel('Epochs')\n",
    "plt.ylabel('Accuracy')\n",
    "\n",
    "plt.legend()\n",
    "\n",
    "plt.show()"
   ]
  },
  {
   "cell_type": "markdown",
   "id": "4c1a08ec",
   "metadata": {},
   "source": [
    "Here, in the two graphs, we are seeing that generally as number of epochs increases, the accuracy is increasing, and the loss is decreasing. This is expected from gradient descent optimisation (rmsprop). However this trend is not followed in validation; it peaks either way at epoch 4, after which it gets worse. This is overfitting, and the model is picking up inaccurate trends in the training data, trends not present in the validation data. \n",
    "\n",
    "For now, we will counter this by creating the model again with only 4 epochs"
   ]
  },
  {
   "cell_type": "code",
   "execution_count": 34,
   "id": "357b1fb6",
   "metadata": {},
   "outputs": [],
   "source": [
    "model_1 = models.Sequential()\n",
    "model_1.add(layers.Dense(16, activation='relu', input_shape=(10000,)))\n",
    "model_1.add(layers.Dense(16, activation='relu'))\n",
    "model_1.add(layers.Dense(1, activation='sigmoid'))\n",
    "\n",
    "model_1.compile(optimizer=optimizers.RMSprop(lr=0.001), loss='binary_crossentropy', metrics=['accuracy'])"
   ]
  },
  {
   "cell_type": "code",
   "execution_count": 35,
   "id": "bafc9651",
   "metadata": {},
   "outputs": [
    {
     "name": "stdout",
     "output_type": "stream",
     "text": [
      "Train on 15000 samples, validate on 10000 samples\n",
      "Epoch 1/4\n",
      "15000/15000 [==============================] - 2s 136us/step - loss: 0.5091 - accuracy: 0.8006 - val_loss: 0.3929 - val_accuracy: 0.8646\n",
      "Epoch 2/4\n",
      "15000/15000 [==============================] - 1s 93us/step - loss: 0.3104 - accuracy: 0.9013 - val_loss: 0.3104 - val_accuracy: 0.8845\n",
      "Epoch 3/4\n",
      "15000/15000 [==============================] - 1s 93us/step - loss: 0.2300 - accuracy: 0.9248 - val_loss: 0.2804 - val_accuracy: 0.8897\n",
      "Epoch 4/4\n",
      "15000/15000 [==============================] - 1s 97us/step - loss: 0.1803 - accuracy: 0.9423 - val_loss: 0.2749 - val_accuracy: 0.8894\n"
     ]
    }
   ],
   "source": [
    "history = model_1.fit(partial_x_train, partial_y_train, epochs=4, batch_size=512, validation_data=(x_val, y_val))"
   ]
  },
  {
   "cell_type": "code",
   "execution_count": 37,
   "id": "ae544b0d",
   "metadata": {},
   "outputs": [
    {
     "name": "stdout",
     "output_type": "stream",
     "text": [
      "25000/25000 [==============================] - 2s 78us/step\n"
     ]
    },
    {
     "data": {
      "text/plain": [
       "[0.2936890637779236, 0.8822000026702881]"
      ]
     },
     "execution_count": 37,
     "metadata": {},
     "output_type": "execute_result"
    }
   ],
   "source": [
    "results = model_1.evaluate(x_test, y_test)\n",
    "results"
   ]
  },
  {
   "cell_type": "markdown",
   "id": "e24cba55",
   "metadata": {},
   "source": [
    "We are getting 88% accuracy. We can modify some values to improve accuracy"
   ]
  }
 ],
 "metadata": {
  "kernelspec": {
   "display_name": "Python 3.8 (tensorflow)",
   "language": "python",
   "name": "tensorflow"
  },
  "language_info": {
   "codemirror_mode": {
    "name": "ipython",
    "version": 3
   },
   "file_extension": ".py",
   "mimetype": "text/x-python",
   "name": "python",
   "nbconvert_exporter": "python",
   "pygments_lexer": "ipython3",
   "version": "3.7.13"
  }
 },
 "nbformat": 4,
 "nbformat_minor": 5
}
