{
 "cells": [
  {
   "cell_type": "code",
   "execution_count": 127,
   "id": "02389ca8-5cf1-4264-9f16-13fedc2191b8",
   "metadata": {},
   "outputs": [
    {
     "name": "stdout",
     "output_type": "stream",
     "text": [
      "Tensor Flow Version: 2.8.0\n",
      "Keras Version: 2.8.0\n",
      "\n",
      "Python 3.9.12 (main, Apr  4 2022, 05:22:27) [MSC v.1916 64 bit (AMD64)]\n",
      "GPU is available\n"
     ]
    }
   ],
   "source": [
    "import sys\n",
    "\n",
    "import tensorflow.keras\n",
    "# import pandas as pd\n",
    "# import sklearn as sk\n",
    "import tensorflow as tf\n",
    "\n",
    "print(f\"Tensor Flow Version: {tf.__version__}\")\n",
    "print(f\"Keras Version: {tensorflow.keras.__version__}\")\n",
    "print()\n",
    "print(f\"Python {sys.version}\")\n",
    "# print(f\"Pandas {pd.__version__}\")\n",
    "# print(f\"Scikit-Learn {sk.__version__}\")\n",
    "gpu = len(tf.config.list_physical_devices('GPU'))>0\n",
    "print(\"GPU is\", \"available\" if gpu else \"NOT AVAILABLE\")"
   ]
  },
  {
   "cell_type": "code",
   "execution_count": 128,
   "id": "c94a5659-b66a-4d8d-8b4a-af14556c0820",
   "metadata": {},
   "outputs": [],
   "source": [
    "from keras.datasets import mnist"
   ]
  },
  {
   "cell_type": "code",
   "execution_count": 129,
   "id": "31e9a04e-9e02-439b-bcef-8f1c574e18e7",
   "metadata": {},
   "outputs": [],
   "source": [
    "(train_data, train_labels), (test_data, test_labels) = mnist.load_data()"
   ]
  },
  {
   "cell_type": "code",
   "execution_count": 131,
   "id": "8d48b91b-a1ac-4d29-b8ea-6d48e77d41c0",
   "metadata": {},
   "outputs": [
    {
     "name": "stdout",
     "output_type": "stream",
     "text": [
      "Original train data shape:  (60000, 28, 28)\n",
      "Reshaped train data:  (60000, 784)\n",
      "Further reshaped train data:  (60000, 784)\n"
     ]
    }
   ],
   "source": [
    "print('Original train data shape: ', train_data.shape)\n",
    "train_data = train_data.reshape((60000, 28*28))\n",
    "print('Reshaped train data: ', train_data.shape)\n",
    "train_data = train_data.astype('float32')/255\n",
    "print('Further reshaped train data: ', train_data.shape)"
   ]
  },
  {
   "cell_type": "code",
   "execution_count": 132,
   "id": "5fe45ffc-6193-409b-ac3f-4cb9d6ac9e38",
   "metadata": {},
   "outputs": [],
   "source": [
    "train_labels = tf.keras.utils.to_categorical(train_labels)\n",
    "test_labels = tf.keras.utils.to_categorical(test_labels)"
   ]
  },
  {
   "cell_type": "code",
   "execution_count": 133,
   "id": "09e4caf2-4fa4-48e6-96f3-0fa3963f0e8a",
   "metadata": {},
   "outputs": [],
   "source": [
    "from keras import layers, models\n",
    "\n",
    "model_0 = models.Sequential()\n",
    "model_0.add(layers.Dense(512, activation='relu', input_shape=(train_data[0].shape)))\n",
    "model_0.add(layers.Dense(10, activation='softmax'))\n",
    "\n",
    "model_0.compile(optimizer='rmsprop', loss='categorical_crossentropy', metrics=['accuracy'])"
   ]
  },
  {
   "cell_type": "code",
   "execution_count": 134,
   "id": "6ed8efd0-224d-4a36-834c-6b183bba5e99",
   "metadata": {},
   "outputs": [],
   "source": [
    "partial_train_data = train_data[50000:]\n",
    "train_val_data = train_data[:10000]\n",
    "\n",
    "partial_train_labels = train_labels[50000:]\n",
    "train_val_labels = train_labels[:10000]"
   ]
  },
  {
   "cell_type": "code",
   "execution_count": 135,
   "id": "5f0ca4d2-73a6-4522-885a-921b0f9f682c",
   "metadata": {},
   "outputs": [],
   "source": [
    "history = model_0.fit(partial_train_data, partial_train_labels, epochs=17, batch_size=512, verbose=0, validation_data=(train_val_data, train_val_labels))"
   ]
  },
  {
   "cell_type": "code",
   "execution_count": 136,
   "id": "0c9a883d-d33e-4f57-b227-379b31e0a1c4",
   "metadata": {},
   "outputs": [
    {
     "data": {
      "image/png": "[encoded data removed]",
      "text/plain": [
       "<Figure size 432x288 with 1 Axes>"
      ]
     },
     "metadata": {
      "needs_background": "light"
     },
     "output_type": "display_data"
    }
   ],
   "source": [
    "import matplotlib.pyplot as plt\n",
    "loss = history.history['loss']\n",
    "val_loss = history.history['val_loss']\n",
    "epochs = range(1, len(loss) + 1)\n",
    "plt.plot(epochs, loss, 'bo', label='Training loss')\n",
    "plt.plot(epochs, val_loss, 'b', label='Validation loss')\n",
    "plt.title('Training and validation loss')\n",
    "plt.xlabel('Epochs')\n",
    "plt.ylabel('Loss')\n",
    "plt.legend()\n",
    "plt.show()"
   ]
  },
  {
   "cell_type": "code",
   "execution_count": 137,
   "id": "c9171eb8-1c6d-4e29-8115-fce39dc6a09b",
   "metadata": {},
   "outputs": [
    {
     "data": {
      "image/png": "[encoded data removed]",
      "text/plain": [
       "<Figure size 432x288 with 1 Axes>"
      ]
     },
     "metadata": {
      "needs_background": "light"
     },
     "output_type": "display_data"
    }
   ],
   "source": [
    "plt.clf()\n",
    "\n",
    "history_dict = history.history\n",
    "\n",
    "accuracy_values = history_dict['accuracy']\n",
    "val_accuracy_values = history_dict['val_accuracy']\n",
    "\n",
    "plt.plot(epochs, accuracy_values, 'bo', label='Training Accuracy')\n",
    "plt.plot(epochs, val_accuracy_values, 'b', label='Validation Accuracy')\n",
    "plt.title('Training and Validation Accuracy')\n",
    "plt.xlabel('Epochs')\n",
    "plt.ylabel('Accuracy')\n",
    "\n",
    "plt.legend()\n",
    "\n",
    "plt.show()"
   ]
  },
  {
   "cell_type": "code",
   "execution_count": 138,
   "id": "6ec640d5-1409-4830-853c-e05512f8ab1c",
   "metadata": {},
   "outputs": [
    {
     "name": "stdout",
     "output_type": "stream",
     "text": [
      "Epoch 1/5\n",
      "79/79 [==============================] - 1s 5ms/step - loss: 0.4947 - accuracy: 0.8599 - val_loss: 0.3647 - val_accuracy: 0.8915\n",
      "Epoch 2/5\n",
      "79/79 [==============================] - 0s 4ms/step - loss: 0.2322 - accuracy: 0.9316 - val_loss: 0.2629 - val_accuracy: 0.9234\n",
      "Epoch 3/5\n",
      "79/79 [==============================] - 0s 5ms/step - loss: 0.1673 - accuracy: 0.9518 - val_loss: 0.2387 - val_accuracy: 0.9276\n",
      "Epoch 4/5\n",
      "79/79 [==============================] - 0s 4ms/step - loss: 0.1254 - accuracy: 0.9641 - val_loss: 0.1956 - val_accuracy: 0.9417\n",
      "Epoch 5/5\n",
      "79/79 [==============================] - 0s 4ms/step - loss: 0.0924 - accuracy: 0.9730 - val_loss: 0.2265 - val_accuracy: 0.9315\n"
     ]
    }
   ],
   "source": [
    "network = models.Sequential()\n",
    "network.add(layers.Dense(512, activation='relu', input_shape=(28 * 28,)))\n",
    "network.add(layers.Dense(10, activation='softmax'))\n",
    "\n",
    "network.compile(optimizer='rmsprop', loss='categorical_crossentropy', metrics=['accuracy'])\n",
    "\n",
    "history = network.fit(partial_train_data, partial_train_labels, epochs=5, batch_size=128, validation_data=(train_val_data, train_val_labels))"
   ]
  },
  {
   "cell_type": "code",
   "execution_count": 139,
   "id": "0e84bdb9-8f77-40f5-871d-6a4332511e61",
   "metadata": {},
   "outputs": [
    {
     "name": "stdout",
     "output_type": "stream",
     "text": [
      "loss\n",
      "accuracy\n",
      "val_loss\n",
      "val_accuracy\n"
     ]
    }
   ],
   "source": [
    "for x in history.history:\n",
    "    print(x)"
   ]
  },
  {
   "cell_type": "code",
   "execution_count": 140,
   "id": "e20b8781-a8df-4161-a8f4-c3b6b4ec5c2c",
   "metadata": {},
   "outputs": [
    {
     "data": {
      "image/png": "[encoded data removed]",
      "text/plain": [
       "<Figure size 432x288 with 1 Axes>"
      ]
     },
     "metadata": {
      "needs_background": "light"
     },
     "output_type": "display_data"
    }
   ],
   "source": [
    "import matplotlib.pyplot as plt\n",
    "loss = history.history['loss']\n",
    "val_loss = history.history['val_loss']\n",
    "epochs = range(1, len(loss) + 1)\n",
    "plt.plot(epochs, loss, 'bo', label='Training loss')\n",
    "plt.plot(epochs, val_loss, 'b', label='Validation loss')\n",
    "plt.title('Training and validation loss')\n",
    "plt.xlabel('Epochs')\n",
    "plt.ylabel('Loss')\n",
    "plt.legend()\n",
    "plt.show()"
   ]
  },
  {
   "cell_type": "code",
   "execution_count": 141,
   "id": "689624c4-7df7-46ef-91c8-46f81074897d",
   "metadata": {},
   "outputs": [
    {
     "data": {
      "image/png": "[encoded data removed]",
      "text/plain": [
       "<Figure size 432x288 with 1 Axes>"
      ]
     },
     "metadata": {
      "needs_background": "light"
     },
     "output_type": "display_data"
    }
   ],
   "source": [
    "plt.clf()\n",
    "\n",
    "history_dict = history.history\n",
    "\n",
    "accuracy_values = history_dict['accuracy']\n",
    "val_accuracy_values = history_dict['val_accuracy']\n",
    "\n",
    "plt.plot(epochs, accuracy_values, 'bo', label='Training Accuracy')\n",
    "plt.plot(epochs, val_accuracy_values, 'b', label='Validation Accuracy')\n",
    "plt.title('Training and Validation Accuracy')\n",
    "plt.xlabel('Epochs')\n",
    "plt.ylabel('Accuracy')\n",
    "\n",
    "plt.legend()\n",
    "\n",
    "plt.show()"
   ]
  },
  {
   "cell_type": "code",
   "execution_count": 142,
   "id": "8d903bd2-2fb4-4c6f-92c3-de9b48289ebe",
   "metadata": {},
   "outputs": [
    {
     "data": {
      "text/plain": [
       "(10000, 28, 28)"
      ]
     },
     "execution_count": 142,
     "metadata": {},
     "output_type": "execute_result"
    }
   ],
   "source": [
    "test_data.shape"
   ]
  },
  {
   "cell_type": "code",
   "execution_count": 143,
   "id": "bbf033a4-c52e-439d-b021-564010b23619",
   "metadata": {},
   "outputs": [
    {
     "name": "stdout",
     "output_type": "stream",
     "text": [
      "313/313 [==============================] - 0s 1ms/step - loss: 0.1880 - accuracy: 0.9460\n",
      "[0.1880030333995819, 0.9459999799728394]\n",
      "313/313 [==============================] - 1s 2ms/step - loss: 0.2175 - accuracy: 0.9325\n",
      "[0.21750673651695251, 0.9325000047683716]\n"
     ]
    }
   ],
   "source": [
    "test_data = test_data.reshape((10000, 28*28))\n",
    "test_data = test_data.astype('float32')/255\n",
    "\n",
    "\n",
    "print(model_0.evaluate(test_data, test_labels))\n",
    "print(network.evaluate(test_data, test_labels))"
   ]
  },
  {
   "cell_type": "code",
   "execution_count": 144,
   "id": "63a05010-52da-441b-a609-5e1882641ba9",
   "metadata": {},
   "outputs": [
    {
     "name": "stdout",
     "output_type": "stream",
     "text": [
      "313/313 [==============================] - 1s 2ms/step - loss: 0.1880 - accuracy: 0.9460\n"
     ]
    },
    {
     "data": {
      "text/plain": [
       "[0.1880030333995819, 0.9459999799728394]"
      ]
     },
     "execution_count": 144,
     "metadata": {},
     "output_type": "execute_result"
    }
   ],
   "source": [
    "model_0.evaluate(test_data, test_labels)"
   ]
  }
 ],
 "metadata": {
  "kernelspec": {
   "display_name": "Python 3.9 (tensorflow)",
   "language": "python",
   "name": "tensorflow"
  },
  "language_info": {
   "codemirror_mode": {
    "name": "ipython",
    "version": 3
   },
   "file_extension": ".py",
   "mimetype": "text/x-python",
   "name": "python",
   "nbconvert_exporter": "python",
   "pygments_lexer": "ipython3",
   "version": "3.9.12"
  }
 },
 "nbformat": 4,
 "nbformat_minor": 5
}
