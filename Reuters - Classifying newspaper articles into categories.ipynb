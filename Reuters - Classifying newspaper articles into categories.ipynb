{
 "cells": [
  {
   "cell_type": "code",
   "execution_count": 1,
   "id": "d9410407-ff10-411e-a89d-ae66d60c7292",
   "metadata": {},
   "outputs": [],
   "source": [
    "import tensorflow as tf\n",
    "from keras.datasets import reuters"
   ]
  },
  {
   "cell_type": "code",
   "execution_count": 2,
   "id": "45981103-5486-45a5-b17f-af1f23585e9c",
   "metadata": {},
   "outputs": [],
   "source": [
    "from keras.utils.np_utils import to_categorical"
   ]
  },
  {
   "cell_type": "markdown",
   "id": "36ac1cdb-05f2-4e53-8d16-ba620b8e9c69",
   "metadata": {},
   "source": [
    "We will create a model with three Dense layers, base units being 64, and relu activations until last one being softmax. Optimiser is rmsprop, loss function is categorical crossentropy."
   ]
  },
  {
   "cell_type": "code",
   "execution_count": 3,
   "id": "8b8eeb5e-494f-410f-867b-3cd5eda4804f",
   "metadata": {},
   "outputs": [
    {
     "name": "stdout",
     "output_type": "stream",
     "text": [
      "Downloading data from https://s3.amazonaws.com/text-datasets/reuters.npz\n",
      "2113536/2110848 [==============================] - 2s 1us/step\n"
     ]
    },
    {
     "name": "stderr",
     "output_type": "stream",
     "text": [
      "/opt/anaconda3/envs/tensorflow/lib/python3.7/site-packages/keras/datasets/reuters.py:85: VisibleDeprecationWarning: Creating an ndarray from ragged nested sequences (which is a list-or-tuple of lists-or-tuples-or ndarrays with different lengths or shapes) is deprecated. If you meant to do this, you must specify 'dtype=object' when creating the ndarray.\n",
      "  x_train, y_train = np.array(xs[:idx]), np.array(labels[:idx])\n",
      "/opt/anaconda3/envs/tensorflow/lib/python3.7/site-packages/keras/datasets/reuters.py:86: VisibleDeprecationWarning: Creating an ndarray from ragged nested sequences (which is a list-or-tuple of lists-or-tuples-or ndarrays with different lengths or shapes) is deprecated. If you meant to do this, you must specify 'dtype=object' when creating the ndarray.\n",
      "  x_test, y_test = np.array(xs[idx:]), np.array(labels[idx:])\n"
     ]
    }
   ],
   "source": [
    "(train_data, train_labels), (test_data, test_labels) = reuters.load_data(num_words=10000)"
   ]
  },
  {
   "cell_type": "code",
   "execution_count": 5,
   "id": "53430f60-48e2-4b30-bde2-e387d9c94570",
   "metadata": {},
   "outputs": [],
   "source": [
    "import numpy as np\n",
    "def vectorise_sequence(sequences, dimension=10000):\n",
    "    results = np.zeros((len(sequences), dimension))\n",
    "    for i, sequence in enumerate(sequences):\n",
    "        results[i, sequence] = 1\n",
    "    return results\n",
    "\n",
    "x_train = vectorise_sequence(train_data)\n",
    "x_test = vectorise_sequence(test_data)"
   ]
  },
  {
   "cell_type": "code",
   "execution_count": 6,
   "id": "82ff7c4c-79de-49bf-b960-72f5cc0ec266",
   "metadata": {},
   "outputs": [
    {
     "data": {
      "text/plain": [
       "array([0., 1., 1., ..., 0., 0., 0.])"
      ]
     },
     "execution_count": 6,
     "metadata": {},
     "output_type": "execute_result"
    }
   ],
   "source": [
    "x_train[0]"
   ]
  },
  {
   "cell_type": "code",
   "execution_count": 8,
   "id": "fe6e3de7-3969-4157-bd5a-d162b6165e77",
   "metadata": {},
   "outputs": [],
   "source": [
    "one_hot_test_labels = to_categorical(test_labels)\n",
    "one_hot_train_labels = to_categorical(train_labels)"
   ]
  },
  {
   "cell_type": "code",
   "execution_count": 10,
   "id": "6f1aa7d0-33ab-4d4c-8d1c-af2c8aaa2c06",
   "metadata": {},
   "outputs": [
    {
     "name": "stderr",
     "output_type": "stream",
     "text": [
      "2022-04-21 05:49:19.613612: I tensorflow/core/platform/cpu_feature_guard.cc:145] This TensorFlow binary is optimized with Intel(R) MKL-DNN to use the following CPU instructions in performance critical operations:  SSE4.1 SSE4.2 AVX AVX2 FMA\n",
      "To enable them in non-MKL-DNN operations, rebuild TensorFlow with the appropriate compiler flags.\n",
      "2022-04-21 05:49:19.614878: I tensorflow/core/common_runtime/process_util.cc:115] Creating new thread pool with default inter op setting: 4. Tune using inter_op_parallelism_threads for best performance.\n"
     ]
    }
   ],
   "source": [
    "from keras import layers, metrics, models, optimizers\n",
    "\n",
    "model_0 = models.Sequential()\n",
    "model_0.add(layers.Dense(64, activation='relu', input_shape=(10000,)))\n",
    "model_0.add(layers.Dense(64, activation='relu'))\n",
    "model_0.add(layers.Dense(46, activation='softmax'))\n",
    "            \n",
    "model_0.compile(optimizer=optimizers.RMSprop(lr=0.001), loss='categorical_crossentropy', metrics = ['accuracy'])"
   ]
  },
  {
   "cell_type": "code",
   "execution_count": 11,
   "id": "87df6e35-17a8-4985-822b-9f9adb0ce1aa",
   "metadata": {},
   "outputs": [],
   "source": [
    "x_val = x_train[:1000]\n",
    "partial_x_train = x_train[1000:]\n",
    "\n",
    "y_val = one_hot_train_labels[:1000]\n",
    "partial_y_train = one_hot_train_labels[1000:]"
   ]
  },
  {
   "cell_type": "code",
   "execution_count": 12,
   "id": "a025ad06-6c35-4671-82e0-8fd74acb084d",
   "metadata": {},
   "outputs": [
    {
     "name": "stdout",
     "output_type": "stream",
     "text": [
      "Train on 7982 samples, validate on 1000 samples\n",
      "Epoch 1/20\n",
      "7982/7982 [==============================] - 2s 311us/step - loss: 2.7272 - accuracy: 0.5264 - val_loss: 1.7811 - val_accuracy: 0.6270\n",
      "Epoch 2/20\n",
      "7982/7982 [==============================] - 1s 123us/step - loss: 1.4412 - accuracy: 0.6966 - val_loss: 1.3262 - val_accuracy: 0.7190\n",
      "Epoch 3/20\n",
      "7982/7982 [==============================] - 1s 135us/step - loss: 1.0622 - accuracy: 0.7757 - val_loss: 1.1610 - val_accuracy: 0.7510\n",
      "Epoch 4/20\n",
      "7982/7982 [==============================] - 1s 127us/step - loss: 0.8386 - accuracy: 0.8215 - val_loss: 1.0510 - val_accuracy: 0.7810\n",
      "Epoch 5/20\n",
      "7982/7982 [==============================] - 1s 153us/step - loss: 0.6687 - accuracy: 0.8577 - val_loss: 0.9771 - val_accuracy: 0.7930\n",
      "Epoch 6/20\n",
      "7982/7982 [==============================] - 1s 150us/step - loss: 0.5358 - accuracy: 0.8854 - val_loss: 0.9383 - val_accuracy: 0.8060\n",
      "Epoch 7/20\n",
      "7982/7982 [==============================] - 1s 143us/step - loss: 0.4324 - accuracy: 0.9105 - val_loss: 0.9319 - val_accuracy: 0.8070\n",
      "Epoch 8/20\n",
      "7982/7982 [==============================] - 1s 121us/step - loss: 0.3541 - accuracy: 0.9260 - val_loss: 0.9323 - val_accuracy: 0.8040\n",
      "Epoch 9/20\n",
      "7982/7982 [==============================] - 1s 114us/step - loss: 0.2884 - accuracy: 0.9360 - val_loss: 0.8948 - val_accuracy: 0.8190\n",
      "Epoch 10/20\n",
      "7982/7982 [==============================] - 1s 162us/step - loss: 0.2484 - accuracy: 0.9426 - val_loss: 0.9504 - val_accuracy: 0.8100\n",
      "Epoch 11/20\n",
      "7982/7982 [==============================] - 1s 127us/step - loss: 0.2095 - accuracy: 0.9483 - val_loss: 0.9305 - val_accuracy: 0.8070\n",
      "Epoch 12/20\n",
      "7982/7982 [==============================] - 1s 129us/step - loss: 0.1845 - accuracy: 0.9501 - val_loss: 0.9501 - val_accuracy: 0.8140\n",
      "Epoch 13/20\n",
      "7982/7982 [==============================] - 1s 114us/step - loss: 0.1660 - accuracy: 0.9526 - val_loss: 0.9825 - val_accuracy: 0.8160\n",
      "Epoch 14/20\n",
      "7982/7982 [==============================] - 1s 121us/step - loss: 0.1541 - accuracy: 0.9543 - val_loss: 0.9642 - val_accuracy: 0.8100\n",
      "Epoch 15/20\n",
      "7982/7982 [==============================] - 1s 116us/step - loss: 0.1420 - accuracy: 0.9563 - val_loss: 0.9890 - val_accuracy: 0.8110\n",
      "Epoch 16/20\n",
      "7982/7982 [==============================] - 1s 154us/step - loss: 0.1330 - accuracy: 0.9557 - val_loss: 1.0175 - val_accuracy: 0.8100\n",
      "Epoch 17/20\n",
      "7982/7982 [==============================] - 1s 117us/step - loss: 0.1231 - accuracy: 0.9588 - val_loss: 1.0452 - val_accuracy: 0.8060\n",
      "Epoch 18/20\n",
      "7982/7982 [==============================] - 1s 133us/step - loss: 0.1224 - accuracy: 0.9569 - val_loss: 1.0824 - val_accuracy: 0.8040\n",
      "Epoch 19/20\n",
      "7982/7982 [==============================] - 1s 137us/step - loss: 0.1193 - accuracy: 0.9577 - val_loss: 1.0528 - val_accuracy: 0.8130\n",
      "Epoch 20/20\n",
      "7982/7982 [==============================] - 1s 138us/step - loss: 0.1112 - accuracy: 0.9554 - val_loss: 1.1391 - val_accuracy: 0.7920\n"
     ]
    }
   ],
   "source": [
    "history = model_0.fit(partial_x_train, partial_y_train, epochs=20, batch_size = 512, validation_data=(x_val, y_val))"
   ]
  },
  {
   "cell_type": "code",
   "execution_count": 13,
   "id": "dc86e164-8c95-42b4-bca3-dee4f30e3152",
   "metadata": {},
   "outputs": [
    {
     "data": {
      "image/png": "[encoded data removed]",
      "text/plain": [
       "<Figure size 432x288 with 1 Axes>"
      ]
     },
     "metadata": {
      "needs_background": "light"
     },
     "output_type": "display_data"
    }
   ],
   "source": [
    "import matplotlib.pyplot as plt\n",
    "\n",
    "history_dict = history.history\n",
    "loss_values = history_dict['loss']\n",
    "val_loss_values = history_dict['val_loss']\n",
    "\n",
    "epochs = range(1, len(history_dict['accuracy']) + 1)\n",
    "plt.plot(epochs, loss_values, 'bo', label='Training Loss')\n",
    "plt.plot(epochs, val_loss_values, 'b', label='Validation Loss')\n",
    "plt.title('Training and Validation Loss')\n",
    "plt.xlabel('Epochs')\n",
    "plt.ylabel('Loss')\n",
    "\n",
    "plt.legend()\n",
    "plt.show()"
   ]
  },
  {
   "cell_type": "code",
   "execution_count": 14,
   "id": "4ba4432a-f989-44bb-ae14-e9f6954d7e2d",
   "metadata": {},
   "outputs": [
    {
     "data": {
      "image/png": "[encoded data removed]",
      "text/plain": [
       "<Figure size 432x288 with 1 Axes>"
      ]
     },
     "metadata": {
      "needs_background": "light"
     },
     "output_type": "display_data"
    }
   ],
   "source": [
    "plt.clf()\n",
    "accuracy_values = history_dict['accuracy']\n",
    "val_accuracy_values = history_dict['val_accuracy']\n",
    "\n",
    "plt.plot(epochs, accuracy_values, 'bo', label='Training Accuracy')\n",
    "plt.plot(epochs, val_accuracy_values, 'b', label='Validation Accuracy')\n",
    "plt.title('Training and Validation Accuracy')\n",
    "plt.xlabel('Epochs')\n",
    "plt.ylabel('Accuracy')\n",
    "\n",
    "plt.legend()\n",
    "\n",
    "plt.show()"
   ]
  },
  {
   "cell_type": "markdown",
   "id": "8d45aae4-112f-43b6-bf57-28e59bfc4853",
   "metadata": {},
   "source": [
    "Overfitting begins around epoch 9. So lets try again, stopping at epoch 9."
   ]
  },
  {
   "cell_type": "code",
   "execution_count": 17,
   "id": "3dd87721-4f18-4543-911e-74e5ea7d480e",
   "metadata": {},
   "outputs": [
    {
     "name": "stdout",
     "output_type": "stream",
     "text": [
      "Train on 7982 samples, validate on 1000 samples\n",
      "Epoch 1/9\n",
      "7982/7982 [==============================] - 1s 164us/step - loss: 2.5663 - accuracy: 0.5248 - val_loss: 1.7104 - val_accuracy: 0.6330\n",
      "Epoch 2/9\n",
      "7982/7982 [==============================] - 1s 120us/step - loss: 1.4088 - accuracy: 0.6981 - val_loss: 1.3040 - val_accuracy: 0.7110\n",
      "Epoch 3/9\n",
      "7982/7982 [==============================] - 1s 111us/step - loss: 1.0561 - accuracy: 0.7705 - val_loss: 1.1417 - val_accuracy: 0.7420\n",
      "Epoch 4/9\n",
      "7982/7982 [==============================] - 1s 118us/step - loss: 0.8329 - accuracy: 0.8205 - val_loss: 1.0479 - val_accuracy: 0.7610\n",
      "Epoch 5/9\n",
      "7982/7982 [==============================] - 1s 134us/step - loss: 0.6624 - accuracy: 0.8594 - val_loss: 0.9752 - val_accuracy: 0.7980\n",
      "Epoch 6/9\n",
      "7982/7982 [==============================] - 1s 115us/step - loss: 0.5259 - accuracy: 0.8925 - val_loss: 0.9282 - val_accuracy: 0.7990\n",
      "Epoch 7/9\n",
      "7982/7982 [==============================] - 1s 111us/step - loss: 0.4220 - accuracy: 0.9118 - val_loss: 0.9094 - val_accuracy: 0.8100\n",
      "Epoch 8/9\n",
      "7982/7982 [==============================] - 1s 119us/step - loss: 0.3380 - accuracy: 0.9306 - val_loss: 0.8817 - val_accuracy: 0.8130\n",
      "Epoch 9/9\n",
      "7982/7982 [==============================] - 1s 116us/step - loss: 0.2778 - accuracy: 0.9409 - val_loss: 0.8781 - val_accuracy: 0.8140\n",
      "2246/2246 [==============================] - 0s 110us/step\n"
     ]
    },
    {
     "data": {
      "text/plain": [
       "[0.9606908265756691, 0.7876224517822266]"
      ]
     },
     "execution_count": 17,
     "metadata": {},
     "output_type": "execute_result"
    }
   ],
   "source": [
    "model_1 = models.Sequential()\n",
    "model_1.add(layers.Dense(64, activation='relu', input_shape=(10000,)))\n",
    "model_1.add(layers.Dense(64, activation='relu'))\n",
    "model_1.add(layers.Dense(46, activation='softmax'))\n",
    "            \n",
    "model_1.compile(optimizer=optimizers.RMSprop(lr=0.001), loss='categorical_crossentropy', metrics = ['accuracy'])\n",
    "model_1.fit(partial_x_train, partial_y_train, epochs=9, batch_size = 512, validation_data=(x_val, y_val))\n",
    "\n",
    "results = model_1.evaluate(x_test, one_hot_test_labels)\n",
    "results"
   ]
  }
 ],
 "metadata": {
  "kernelspec": {
   "display_name": "Python 3.8 (tensorflow)",
   "language": "python",
   "name": "tensorflow"
  },
  "language_info": {
   "codemirror_mode": {
    "name": "ipython",
    "version": 3
   },
   "file_extension": ".py",
   "mimetype": "text/x-python",
   "name": "python",
   "nbconvert_exporter": "python",
   "pygments_lexer": "ipython3",
   "version": "3.7.13"
  }
 },
 "nbformat": 4,
 "nbformat_minor": 5
}
